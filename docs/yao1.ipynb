{
 "cells": [
  {
   "cell_type": "code",
   "execution_count": 1,
   "metadata": {},
   "outputs": [],
   "source": [
    "import h5py\n",
    "import pandas as pd\n",
    "import numpy as np"
   ]
  },
  {
   "cell_type": "code",
   "execution_count": 2,
   "metadata": {},
   "outputs": [
    {
     "data": {
      "text/plain": [
       "<HDF5 file \"expression_matrix.hdf5\" (mode r)>"
      ]
     },
     "execution_count": 2,
     "metadata": {},
     "output_type": "execute_result"
    }
   ],
   "source": [
    "path = \"../data/yao/expression_matrix.hdf5\"\n",
    "f = h5py.File(path, \"r\")\n",
    "f"
   ]
  },
  {
   "cell_type": "code",
   "execution_count": 3,
   "metadata": {},
   "outputs": [
    {
     "name": "stdout",
     "output_type": "stream",
     "text": [
      "<HDF5 dataset \"counts\": shape (31053, 1169320), type \"<i4\">\n",
      "<HDF5 dataset \"gene\": shape (31053,), type \"|S30\">\n",
      "<HDF5 dataset \"samples\": shape (1169320,), type \"|S36\">\n",
      "<HDF5 dataset \"shape\": shape (2,), type \"<i4\">\n"
     ]
    }
   ],
   "source": [
    "for key in f['data'].keys():\n",
    "    print(f['data'][key])"
   ]
  },
  {
   "cell_type": "code",
   "execution_count": 4,
   "metadata": {},
   "outputs": [
    {
     "data": {
      "text/plain": [
       "array([8, 0], dtype=int32)"
      ]
     },
     "execution_count": 4,
     "metadata": {},
     "output_type": "execute_result"
    }
   ],
   "source": [
    "f['data']['counts'][[0,1],0]"
   ]
  },
  {
   "cell_type": "code",
   "execution_count": 31,
   "metadata": {},
   "outputs": [
    {
     "data": {
      "text/plain": [
       "(1169213, 57)"
      ]
     },
     "execution_count": 31,
     "metadata": {},
     "output_type": "execute_result"
    }
   ],
   "source": [
    "df = pd.read_csv(\"../data/yao/metadata.csv\")\n",
    "df.shape"
   ]
  },
  {
   "cell_type": "code",
   "execution_count": 36,
   "metadata": {},
   "outputs": [
    {
     "name": "stdout",
     "output_type": "stream",
     "text": [
      "1169213\n"
     ]
    }
   ],
   "source": [
    "count_samples = np.array(f['data']['samples'], dtype=str)\n",
    "#df.set_index(\"sample_name\", inplace=True)\n",
    "obs_samples = np.array(df.index)\n",
    "shared_samples = set(obs_samples).intersection(count_samples)\n",
    "#shared_samples = list(shared_samples)\n",
    "print(len(shared_samples))"
   ]
  },
  {
   "cell_type": "markdown",
   "metadata": {},
   "source": [
    "Subset shared samples (most) and GABAergic cells"
   ]
  },
  {
   "cell_type": "code",
   "execution_count": 50,
   "metadata": {},
   "outputs": [],
   "source": [
    "# 15m\n",
    "count_ix = np.where([sample in shared_samples and df.loc[sample]['class_label'] == \"GABAergic\" for sample in count_samples])\n",
    "obs_ix = np.where([sample in shared_samples and df.loc[sample]['class_label'] == \"GABAergic\"  for sample in obs_samples])[0] #all of them"
   ]
  },
  {
   "cell_type": "markdown",
   "metadata": {},
   "source": [
    "Next, need same ordering. No, not yet. First get count df, then can do indexing"
   ]
  },
  {
   "cell_type": "code",
   "execution_count": 54,
   "metadata": {},
   "outputs": [],
   "source": [
    "count_ix = count_ix[0]"
   ]
  },
  {
   "cell_type": "code",
   "execution_count": 55,
   "metadata": {},
   "outputs": [
    {
     "data": {
      "text/plain": [
       "(177614, 177614)"
      ]
     },
     "execution_count": 55,
     "metadata": {},
     "output_type": "execute_result"
    }
   ],
   "source": [
    "len(count_ix), len(obs_ix)"
   ]
  },
  {
   "cell_type": "code",
   "execution_count": 60,
   "metadata": {},
   "outputs": [
    {
     "data": {
      "text/plain": [
       "array([b'AAACCTGCACGTCTCT-L8TX_180221_01_F09',\n",
       "       b'AAACGGGAGACTTTCG-L8TX_180221_01_F09',\n",
       "       b'AAAGATGCATGCCTAA-L8TX_180221_01_F09', ...,\n",
       "       b'TTTGTCAGTAAATGAC-L8TX_200611_02_A05',\n",
       "       b'TTTGTCAGTCGCGGTT-L8TX_200611_02_A05',\n",
       "       b'TTTGTCATCAGGCGAA-L8TX_200611_02_A05'], dtype='|S36')"
      ]
     },
     "execution_count": 60,
     "metadata": {},
     "output_type": "execute_result"
    }
   ],
   "source": [
    "np.array(f['data']['samples'])[count_ix]"
   ]
  },
  {
   "cell_type": "code",
   "execution_count": 63,
   "metadata": {},
   "outputs": [
    {
     "data": {
      "text/plain": [
       "array(['AAACCTGCACGTCTCT-L8TX_180221_01_F09',\n",
       "       'AAACGGGAGACTTTCG-L8TX_180221_01_F09',\n",
       "       'AAAGATGCATGCCTAA-L8TX_180221_01_F09', ...,\n",
       "       'TTTGTCAGTAAATGAC-L8TX_200611_02_A05',\n",
       "       'TTTGTCAGTCGCGGTT-L8TX_200611_02_A05',\n",
       "       'TTTGTCATCAGGCGAA-L8TX_200611_02_A05'], dtype='<U36')"
      ]
     },
     "execution_count": 63,
     "metadata": {},
     "output_type": "execute_result"
    }
   ],
   "source": [
    "samples = np.array(f['data']['samples'], dtype = str)[count_ix]\n",
    "samples"
   ]
  },
  {
   "cell_type": "code",
   "execution_count": 67,
   "metadata": {},
   "outputs": [
    {
     "data": {
      "text/plain": [
       "array(['Xkr4', 'Gm1992', 'Gm37381', ..., 'CAAA01118383.1', 'Vmn2r122',\n",
       "       'CAAA01147332.1'], dtype='<U30')"
      ]
     },
     "execution_count": 67,
     "metadata": {},
     "output_type": "execute_result"
    }
   ],
   "source": [
    "genes = np.array(f['data']['gene'],dtype=str)\n",
    "genes"
   ]
  },
  {
   "cell_type": "code",
   "execution_count": 68,
   "metadata": {},
   "outputs": [
    {
     "data": {
      "text/plain": [
       "array([[30, 11,  3, ..., 14,  8,  5],\n",
       "       [ 0,  0,  0, ...,  0,  0,  1],\n",
       "       [ 0,  0,  0, ...,  0,  0,  0],\n",
       "       ...,\n",
       "       [ 0,  0,  0, ...,  0,  0,  0],\n",
       "       [ 0,  0,  0, ...,  0,  0,  0],\n",
       "       [ 0,  0,  0, ...,  0,  0,  0]], dtype=int32)"
      ]
     },
     "execution_count": 68,
     "metadata": {},
     "output_type": "execute_result"
    }
   ],
   "source": [
    "counts = f['data']['counts'][:, count_ix[:10]]\n",
    "counts"
   ]
  },
  {
   "cell_type": "code",
   "execution_count": 73,
   "metadata": {},
   "outputs": [
    {
     "data": {
      "text/plain": [
       "(177614, 56)"
      ]
     },
     "execution_count": 73,
     "metadata": {},
     "output_type": "execute_result"
    }
   ],
   "source": [
    "df.loc[samples].shape"
   ]
  },
  {
   "cell_type": "code",
   "execution_count": null,
   "metadata": {},
   "outputs": [],
   "source": [
    "samples =  f['data']['samples'][count_ix]\n",
    "counts = f['data']['counts'][:, count_ix] # numpy _\n",
    "counts = counts.T # genes x samples -> samples x genes\n",
    "pd.DataFrame(counts, columns =  f['data']['gene'], index = samples)"
   ]
  },
  {
   "cell_type": "code",
   "execution_count": 48,
   "metadata": {},
   "outputs": [
    {
     "data": {
      "text/plain": [
       "array([ 39,  44,  46,  57,  66,  68,  69,  77,  79,  81,  83, 100, 116,\n",
       "       128, 144, 149, 174, 188, 194, 199, 206, 227, 232, 237, 243, 260,\n",
       "       264, 273, 274, 283, 285, 288, 291, 295, 297, 301, 309, 310, 317,\n",
       "       321, 323, 326, 328, 330, 331, 332, 337, 344, 349, 350, 351, 353,\n",
       "       363, 366, 381, 388, 389, 391, 394, 395, 406, 413, 429, 438, 442,\n",
       "       452, 467, 468, 484, 485, 486, 487, 496, 497, 499, 504, 517, 518,\n",
       "       530, 533, 535, 537, 549, 552, 561, 569, 587, 590, 594, 604, 613,\n",
       "       616, 620, 628, 646, 661, 673, 688, 693, 700, 713, 720, 722, 725,\n",
       "       742, 766, 770, 787, 791, 794, 796, 798, 799, 806, 827, 842, 849,\n",
       "       852, 854, 858, 866, 868, 898, 905, 908, 912, 914, 917, 928, 931,\n",
       "       937, 939, 940, 941, 943, 945, 953, 955, 958, 970, 976, 995])"
      ]
     },
     "execution_count": 48,
     "metadata": {},
     "output_type": "execute_result"
    }
   ],
   "source": [
    "gaba_ix = np.where([df.loc[sample]['class_label'] == \"GABAergic\" for sample in obs_samples])[0] #all of them\n",
    "gaba_ix"
   ]
  },
  {
   "cell_type": "code",
   "execution_count": 12,
   "metadata": {},
   "outputs": [
    {
     "data": {
      "text/plain": [
       "(1169213,)"
      ]
     },
     "execution_count": 12,
     "metadata": {},
     "output_type": "execute_result"
    }
   ],
   "source": [
    "counts = f['data']['counts'][:, count_ix]"
   ]
  },
  {
   "cell_type": "code",
   "execution_count": 16,
   "metadata": {},
   "outputs": [
    {
     "data": {
      "text/plain": [
       "(177614, 0.15190901914364618)"
      ]
     },
     "execution_count": 16,
     "metadata": {},
     "output_type": "execute_result"
    }
   ],
   "source": [
    "gaba_ix = df['class_label'] == \"GABAergic\"\n",
    "sum(gaba_ix), np.mean(gaba_ix)"
   ]
  },
  {
   "cell_type": "code",
   "execution_count": 41,
   "metadata": {},
   "outputs": [],
   "source": [
    "count_samples = np.array(f['data']['samples'], dtype=str)\n",
    "obs_samples = np.array(df['sample_name'])\n",
    "shared_samples = set(obs_samples).intersection(count_samples)\n",
    "\n"
   ]
  },
  {
   "cell_type": "code",
   "execution_count": 45,
   "metadata": {},
   "outputs": [
    {
     "data": {
      "text/plain": [
       "('ACGCAGCAGACCGGAT-L8TX_180221_01_C11', 'AAACCTGAGAAACGCC-L8TX_180221_01_F09')"
      ]
     },
     "execution_count": 45,
     "metadata": {},
     "output_type": "execute_result"
    }
   ],
   "source": [
    "obs_samples[0], count_samples[0]"
   ]
  },
  {
   "cell_type": "code",
   "execution_count": 46,
   "metadata": {},
   "outputs": [
    {
     "data": {
      "text/plain": [
       "1169213"
      ]
     },
     "execution_count": 46,
     "metadata": {},
     "output_type": "execute_result"
    }
   ],
   "source": [
    "shared_samples = set(obs_samples).intersection(count_samples)\n",
    "len(shared_samples)"
   ]
  },
  {
   "cell_type": "code",
   "execution_count": null,
   "metadata": {},
   "outputs": [],
   "source": [
    "[]"
   ]
  }
 ],
 "metadata": {
  "kernelspec": {
   "display_name": "snakemake",
   "language": "python",
   "name": "python3"
  },
  "language_info": {
   "codemirror_mode": {
    "name": "ipython",
    "version": 3
   },
   "file_extension": ".py",
   "mimetype": "text/x-python",
   "name": "python",
   "nbconvert_exporter": "python",
   "pygments_lexer": "ipython3",
   "version": "3.11.4"
  },
  "orig_nbformat": 4
 },
 "nbformat": 4,
 "nbformat_minor": 2
}
