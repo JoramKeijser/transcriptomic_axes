{
 "cells": [
  {
   "cell_type": "code",
   "execution_count": 28,
   "metadata": {},
   "outputs": [],
   "source": [
    "import numpy as n\n",
    "\n",
    "import os\n",
    "import matplotlib.pyplot as plt\n",
    "from matplotlib.colors import ListedColormap\n",
    "import matplotlib as mpl\n",
    "import seaborn as sns\n",
    "import pandas as pd\n",
    "import argparse\n",
    "import anndata as ad\n",
    "import scanpy as sc\n",
    "from scipy.stats import pearsonr"
   ]
  },
  {
   "cell_type": "code",
   "execution_count": 30,
   "metadata": {},
   "outputs": [
    {
     "ename": "NameError",
     "evalue": "name 'np' is not defined",
     "output_type": "error",
     "traceback": [
      "\u001b[0;31m---------------------------------------------------------------------------\u001b[0m",
      "\u001b[0;31mNameError\u001b[0m                                 Traceback (most recent call last)",
      "Cell \u001b[0;32mIn[30], line 5\u001b[0m\n\u001b[1;32m      3\u001b[0m \u001b[39m# Select samples for which we have cell info\u001b[39;00m\n\u001b[1;32m      4\u001b[0m cell_names \u001b[39m=\u001b[39m cell_info\u001b[39m.\u001b[39mindex\n\u001b[0;32m----> 5\u001b[0m counts \u001b[39m=\u001b[39m counts\u001b[39m.\u001b[39mloc[:, np\u001b[39m.\u001b[39marray(cell_names)]\n",
      "\u001b[0;31mNameError\u001b[0m: name 'np' is not defined"
     ]
    }
   ],
   "source": [
    "cell_info = pd.read_csv(\"../data/tosches/metadata.csv\", delimiter=' ')\n",
    "counts = pd.read_csv(\"../data/tosches/counts.csv\", delimiter=' ') # gene x samples\n",
    "# Select samples for which we have cell info\n",
    "cell_names = cell_info.index"
   ]
  },
  {
   "cell_type": "code",
   "execution_count": 32,
   "metadata": {},
   "outputs": [],
   "source": [
    "import numpy as np\n",
    "counts = counts.loc[:, np.array(cell_names)]\n"
   ]
  },
  {
   "cell_type": "code",
   "execution_count": 33,
   "metadata": {},
   "outputs": [],
   "source": [
    "adata = ad.AnnData(X = counts.T, dtype = int, obs = cell_info)\n",
    "# Select ins\n",
    "adata = adata[[cluster.startswith(\"i\") for cluster in adata.obs['clusters']]]\n",
    "# Mouse gene names\n",
    "adata.var_names = [gene[0] + gene[1:].lower() for gene in adata.var_names]"
   ]
  },
  {
   "cell_type": "code",
   "execution_count": 34,
   "metadata": {},
   "outputs": [
    {
     "name": "stdout",
     "output_type": "stream",
     "text": [
      "Index(['nGene', 'nUMI', 'orig.ident', 'sampleident', 'areaident',\n",
      "       'libraryident', 'animalident', 'percent.mito', 'pCODING', 'pUTR',\n",
      "       'pINTRONIC', 'pINTERGENIC', 'pMITO', 'pallial.area', 'clusters'],\n",
      "      dtype='object')\n"
     ]
    }
   ],
   "source": [
    "# Map to putative mammalian homologues (Tosches Fig 5)\n",
    "map = {}\n",
    "for cluster in range(1, 7):\n",
    "    map[f'i0{cluster}'] = \"Meis2\"\n",
    "for cluster in range(7, 11):\n",
    "    if cluster<10:\n",
    "        map[f'i0{cluster}'] = \"Sst\"\n",
    "    else:\n",
    "        map[f'i{cluster}'] = \"Sst\"\n",
    "for cluster in range(11, 14):\n",
    "    map[f'i{cluster}'] = \"Pvalb\"\n",
    "for cluster in range(14, 19):\n",
    "    map[f'i{cluster}'] = \"Vip\"\n",
    "# Consistent order\n",
    "print(adata.obs.columns)"
   ]
  },
  {
   "cell_type": "code",
   "execution_count": 41,
   "metadata": {},
   "outputs": [],
   "source": [
    "adata.obs[\"Subclass\"] = adata.obs[\"clusters\"].map(map)"
   ]
  },
  {
   "cell_type": "code",
   "execution_count": 44,
   "metadata": {},
   "outputs": [],
   "source": [
    "def organize_subclass_labels(adata):\n",
    "    \"\"\"\n",
    "    Add labels for missing subclasses, \n",
    "    order according to mouse tPC1\n",
    "    \"\"\"\n",
    "    subclass_order = ['Pvalb', 'Sst', 'Lamp5', 'Vip', 'Sncg', 'Meis2']\n",
    "    adata.obs['Subclass'] = adata.obs['Subclass'].astype(\"category\")\n",
    "    missing_subclasses = [subclass for subclass in subclass_order if subclass not in adata.obs['Subclass'].cat.categories]\n",
    "    adata.obs['Subclass'] = adata.obs['Subclass'].cat.add_categories(missing_subclasses)\n",
    "    adata.obs['Subclass'] = adata.obs['Subclass'].cat.reorder_categories(subclass_order)\n",
    "    return adata"
   ]
  },
  {
   "cell_type": "code",
   "execution_count": 45,
   "metadata": {},
   "outputs": [],
   "source": [
    "adata = organize_subclass_labels(adata)  "
   ]
  },
  {
   "cell_type": "code",
   "execution_count": 2,
   "metadata": {},
   "outputs": [],
   "source": [
    "adata = ad.read_h5ad(\"../data/anndata/bugeon.h5ad\")"
   ]
  },
  {
   "cell_type": "code",
   "execution_count": 26,
   "metadata": {},
   "outputs": [],
   "source": [
    "by_subtype = adata.obs[['Subtype', 'state_modulation']].groupby(\"Subtype\").mean()"
   ]
  },
  {
   "cell_type": "code",
   "execution_count": null,
   "metadata": {},
   "outputs": [],
   "source": []
  }
 ],
 "metadata": {
  "kernelspec": {
   "display_name": "snakemake",
   "language": "python",
   "name": "python3"
  },
  "language_info": {
   "codemirror_mode": {
    "name": "ipython",
    "version": 3
   },
   "file_extension": ".py",
   "mimetype": "text/x-python",
   "name": "python",
   "nbconvert_exporter": "python",
   "pygments_lexer": "ipython3",
   "version": "3.10.10"
  },
  "orig_nbformat": 4
 },
 "nbformat": 4,
 "nbformat_minor": 2
}
